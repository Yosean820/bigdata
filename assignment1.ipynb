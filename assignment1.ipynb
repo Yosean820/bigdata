{
  "nbformat": 4,
  "nbformat_minor": 0,
  "metadata": {
    "colab": {
      "name": "assignment1",
      "provenance": [],
      "collapsed_sections": [],
      "include_colab_link": true
    },
    "kernelspec": {
      "name": "ir",
      "display_name": "R"
    }
  },
  "cells": [
    {
      "cell_type": "markdown",
      "metadata": {
        "id": "view-in-github",
        "colab_type": "text"
      },
      "source": [
        "<a href=\"https://colab.research.google.com/github/Yosean820/bigdata/blob/master/assignment1.ipynb\" target=\"_parent\"><img src=\"https://colab.research.google.com/assets/colab-badge.svg\" alt=\"Open In Colab\"/></a>"
      ]
    },
    {
      "cell_type": "code",
      "metadata": {
        "id": "2mo_2SzfXC2t",
        "colab_type": "code",
        "colab": {
          "base_uri": "https://localhost:8080/",
          "height": 33
        },
        "outputId": "16312f87-cdc8-48b7-97bb-908917f5f307"
      },
      "source": [
        "class(\"2\")"
      ],
      "execution_count": null,
      "outputs": [
        {
          "output_type": "display_data",
          "data": {
            "text/plain": [
              "[1] \"character\""
            ],
            "text/latex": "'character'",
            "text/markdown": "'character'",
            "text/html": [
              "'character'"
            ]
          },
          "metadata": {
            "tags": []
          }
        }
      ]
    },
    {
      "cell_type": "code",
      "metadata": {
        "id": "x_2ZClX_Xkgi",
        "colab_type": "code",
        "colab": {
          "base_uri": "https://localhost:8080/",
          "height": 33
        },
        "outputId": "168d787c-26ad-4e93-bb12-1e31dc6c4123"
      },
      "source": [
        "9 / 2 - 2\n"
      ],
      "execution_count": null,
      "outputs": [
        {
          "output_type": "display_data",
          "data": {
            "text/plain": [
              "[1] 2.5"
            ],
            "text/latex": "2.5",
            "text/markdown": "2.5",
            "text/html": [
              "2.5"
            ]
          },
          "metadata": {
            "tags": []
          }
        }
      ]
    },
    {
      "cell_type": "code",
      "metadata": {
        "id": "za6KYp2vYfo5",
        "colab_type": "code",
        "colab": {}
      },
      "source": [
        "my_H <-1.7"
      ],
      "execution_count": null,
      "outputs": []
    },
    {
      "cell_type": "code",
      "metadata": {
        "id": "2AgJBHTwY0Cb",
        "colab_type": "code",
        "colab": {}
      },
      "source": [
        "my_W <-60"
      ],
      "execution_count": null,
      "outputs": []
    },
    {
      "cell_type": "code",
      "metadata": {
        "id": "rK_oiUZcY4x-",
        "colab_type": "code",
        "colab": {}
      },
      "source": [
        "BMI<-my_W/my_H/my_H"
      ],
      "execution_count": null,
      "outputs": []
    },
    {
      "cell_type": "code",
      "metadata": {
        "id": "WDfkqwRna53c",
        "colab_type": "code",
        "colab": {
          "base_uri": "https://localhost:8080/",
          "height": 33
        },
        "outputId": "55261a7e-931f-4fb0-8d67-d94947b9c2ef"
      },
      "source": [
        "BMI"
      ],
      "execution_count": null,
      "outputs": [
        {
          "output_type": "display_data",
          "data": {
            "text/plain": [
              "[1] 20.76125"
            ],
            "text/latex": "20.7612456747405",
            "text/markdown": "20.7612456747405",
            "text/html": [
              "20.7612456747405"
            ]
          },
          "metadata": {
            "tags": []
          }
        }
      ]
    },
    {
      "cell_type": "code",
      "metadata": {
        "id": "Nm083p-WZFCs",
        "colab_type": "code",
        "colab": {}
      },
      "source": [
        "first_name <- \"sean\""
      ],
      "execution_count": null,
      "outputs": []
    },
    {
      "cell_type": "code",
      "metadata": {
        "id": "IiyJtagEZLVX",
        "colab_type": "code",
        "colab": {
          "base_uri": "https://localhost:8080/",
          "height": 33
        },
        "outputId": "bb30f706-c0aa-4b92-f842-f2432e24fdda"
      },
      "source": [
        "first_name"
      ],
      "execution_count": null,
      "outputs": [
        {
          "output_type": "display_data",
          "data": {
            "text/plain": [
              "[1] \"sean\""
            ],
            "text/latex": "'sean'",
            "text/markdown": "'sean'",
            "text/html": [
              "'sean'"
            ]
          },
          "metadata": {
            "tags": []
          }
        }
      ]
    },
    {
      "cell_type": "code",
      "metadata": {
        "id": "rS_L3j9YchFu",
        "colab_type": "code",
        "colab": {
          "base_uri": "https://localhost:8080/",
          "height": 33
        },
        "outputId": "cdc14de8-019a-4851-e8b9-c20fff60b297"
      },
      "source": [
        "paste0(\"我是\",first_name,\"我的身高\",my_H,\"我的體重\",my_W,\"我的BMI\",BMI)"
      ],
      "execution_count": null,
      "outputs": [
        {
          "output_type": "display_data",
          "data": {
            "text/plain": [
              "[1] \"我是sean我的身高1.7我的體重60我的BMI20.7612456747405\""
            ],
            "text/latex": "'我是sean我的身高1.7我的體重60我的BMI20.7612456747405'",
            "text/markdown": "'我是sean我的身高1.7我的體重60我的BMI20.7612456747405'",
            "text/html": [
              "'我是sean我的身高1.7我的體重60我的BMI20.7612456747405'"
            ]
          },
          "metadata": {
            "tags": []
          }
        }
      ]
    }
  ]
}